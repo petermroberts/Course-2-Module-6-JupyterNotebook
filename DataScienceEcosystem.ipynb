{
 "cells": [
  {
   "cell_type": "markdown",
   "metadata": {},
   "source": [
    "# Peer-graded Assignment: Submit Your Work and Grade Your Peers"
   ]
  },
  {
   "cell_type": "markdown",
   "metadata": {},
   "source": [
    "Hello, my name is Peter"
   ]
  },
  {
   "cell_type": "markdown",
   "metadata": {},
   "source": [
    "Data Science languages include but aren't limited to\n",
    "- Python\n",
    "- R\n",
    "- Julia\n",
    "- Scala\n",
    "- Java\n",
    "- JavaScript\n",
    "- SQL\n",
    "- MATLAB"
   ]
  },
  {
   "cell_type": "markdown",
   "metadata": {},
   "source": [
    "Data Science libraries include but aren't limited to\n",
    "- Pandas\n",
    "- Numpy\n",
    "- Scikit-Learn\n",
    "- PyTorch\n",
    "- TensorFlow\n",
    "- matplotlib"
   ]
  },
  {
   "cell_type": "markdown",
   "metadata": {},
   "source": [
    "Data Science tools include but aren't limited to \n",
    "\n",
    "|Tool|Decription|\n",
    "|:--:|:--------:|\n",
    "|Hadoop|A tool for statistics on big data|\n",
    "|Tableau|A tool for Data Preprocessing|"
   ]
  },
  {
   "cell_type": "markdown",
   "metadata": {},
   "source": [
    "```{math}\n",
    "a^2 + b^2 = c^2\n",
    "```"
   ]
  },
  {
   "cell_type": "code",
   "execution_count": 1,
   "metadata": {},
   "outputs": [
    {
     "name": "stdout",
     "output_type": "stream",
     "text": [
      "The product of 2 + 4 is: 8\n",
      "The sum of the product (8) and 8 is: 16\n"
     ]
    }
   ],
   "source": [
    "# This cell adds and multiplies numbers\n",
    "\n",
    "x = 2\n",
    "y = 4\n",
    "z = 8\n",
    "\n",
    "product = x * y\n",
    "sum = product + z\n",
    "\n",
    "print(f'The product of {x} + {y} is: {product}')\n",
    "print(f'The sum of the product ({product}) and {z} is: {sum}')"
   ]
  },
  {
   "cell_type": "code",
   "execution_count": 3,
   "metadata": {},
   "outputs": [
    {
     "name": "stdout",
     "output_type": "stream",
     "text": [
      "90 minutes is the equivalent to 1.5 hours\n"
     ]
    }
   ],
   "source": [
    "minutes = 90\n",
    "MINUTES_TO_HOURS = 60\n",
    "\n",
    "hours = minutes / MINUTES_TO_HOURS\n",
    "\n",
    "print(f'{minutes} minutes is the equivalent to {hours} hours')"
   ]
  },
  {
   "cell_type": "markdown",
   "metadata": {},
   "source": [
    "The objectives are:\n",
    "- Create a markdown cell with the title of the notebook. (1 pt)\n",
    "- Create a markdown cell for an introduction. (1 pt)\n",
    "- Create a markdown cell to list data science languages. (3 pts)\n",
    "- Create a markdown cell to list data science libraries. (3 pts)\n",
    "- Create a markdown cell with a table of Data Science tools. (3 pts)\n",
    "- Create a markdown cell introducing arithmetic expression examples. (1 pt)\n",
    "- Create a code cell to multiply and add numbers. (2 pts)\n",
    "- Create a code cell to convert minutes to hours. (2 pts)\n",
    "- Insert a markdown cell to list Objectives. (3 pts)\n",
    "- Create a markdown cell to indicate the Author’s name. (2 pts)\n",
    "- Share your notebook through GitHub (3 pts)\n",
    "- Take a screenshot of the first page of the notebook. (1 pt)"
   ]
  },
  {
   "cell_type": "markdown",
   "metadata": {},
   "source": [
    "Author: Peter"
   ]
  }
 ],
 "metadata": {
  "kernelspec": {
   "display_name": "base",
   "language": "python",
   "name": "python3"
  },
  "language_info": {
   "codemirror_mode": {
    "name": "ipython",
    "version": 3
   },
   "file_extension": ".py",
   "mimetype": "text/x-python",
   "name": "python",
   "nbconvert_exporter": "python",
   "pygments_lexer": "ipython3",
   "version": "3.11.7"
  }
 },
 "nbformat": 4,
 "nbformat_minor": 2
}
